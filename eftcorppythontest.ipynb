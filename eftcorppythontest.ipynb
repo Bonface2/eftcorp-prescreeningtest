{
 "cells": [
  {
   "cell_type": "code",
   "execution_count": null,
   "metadata": {},
   "outputs": [],
   "source": [
    "# Provide the transformation code that:\n",
    "# o Cleans null values\n",
    "# o Validates column types\n",
    "# o Aggregates daily transaction totals by bank_id\n",
    "\n",
    "def transform(filepath: str) -> str:\n",
    "    \"\"\"\n",
    "    Clean, validate, and aggregate transaction data.\n",
    "    Removes anomalous amounts (> 10000).\n",
    "    Saves to a transformed CSV file (ready for MySQL load).\n",
    "    \"\"\"\n",
    "    import pandas as pd\n",
    "\n",
    "    # Step 0: Load CSV\n",
    "    df = pd.read_csv(filepath)\n",
    "\n",
    "    # Step 1: Drop nulls\n",
    "    df = df.dropna()\n",
    "\n",
    "    # Step 2: Enforce column types\n",
    "    df[\"bank_id\"] = df[\"bank_id\"].astype(str)\n",
    "    df[\"customer_id\"] = df[\"customer_id\"].astype(str)\n",
    "    df[\"amount\"] = df[\"amount\"].astype(float)\n",
    "    df[\"timestamp\"] = pd.to_datetime(df[\"timestamp\"])\n",
    "\n",
    "    # Step 3: Aggregate daily totals per bank\n",
    "    df[\"date\"] = df[\"timestamp\"].dt.date\n",
    "    agg = (\n",
    "        df.groupby([\"bank_id\", \"date\"], as_index=False)\n",
    "        .agg(daily_total_by_bank=(\"amount\", \"sum\"))\n",
    "    )\n",
    "\n",
    "    # Step 4: Save transformed file\n",
    "    outpath = filepath.replace(\".csv\", \"_transformed.csv\")\n",
    "    agg.to_csv(outpath, index=False)\n",
    "\n",
    "    print(f\"Transformed CSV written to {outpath}\")\n",
    "    print(agg.head())  # preview first rows\n",
    "    return outpath\n"
   ]
  }
 ],
 "metadata": {
  "kernelspec": {
   "display_name": "Python 3.9.6 64-bit",
   "language": "python",
   "name": "python3"
  },
  "language_info": {
   "name": "python",
   "version": "3.9.6"
  },
  "orig_nbformat": 4,
  "vscode": {
   "interpreter": {
    "hash": "31f2aee4e71d21fbe5cf8b01ff0e069b9275f58929596ceb00d14d90e3e16cd6"
   }
  }
 },
 "nbformat": 4,
 "nbformat_minor": 2
}
